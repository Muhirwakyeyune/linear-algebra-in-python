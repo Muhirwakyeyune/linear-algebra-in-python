{
  "nbformat": 4,
  "nbformat_minor": 0,
  "metadata": {
    "colab": {
      "private_outputs": true,
      "provenance": []
    },
    "kernelspec": {
      "name": "python3",
      "display_name": "Python 3"
    },
    "language_info": {
      "name": "python"
    }
  },
  "cells": [
    {
      "cell_type": "markdown",
      "source": [
        "---\n",
        "___\n",
        "<p align= 'center'> <strong> PRACTICAL ASSIGNMENT ON LINEAR ALGEBRA</strong></p>\n",
        "\n",
        "---\n",
        "___\n",
        "<b> Instructions </b> <br>\n",
        "    1. The work you hand in must be your own. You are permitted to collaborate with one another students only to the degree of\n",
        "giving ideas on how to solve a problem. Think through and write up your own solutions; copying from others is not\n",
        "permitted. In particular, the code you hand in must be your own; <br>\n",
        "    2. Do not import additional libraries, only numpy is enough for this assignment."
      ],
      "metadata": {
        "id": "CUwVRjPlWGVJ"
      }
    },
    {
      "cell_type": "code",
      "source": [
        "import numpy as np"
      ],
      "metadata": {
        "id": "kbk4wqQ-M2yg"
      },
      "execution_count": null,
      "outputs": []
    },
    {
      "cell_type": "markdown",
      "source": [
        "## Forward and Backward substitution and Gaussian Elimination"
      ],
      "metadata": {
        "id": "sDpC-myYerhD"
      }
    },
    {
      "cell_type": "code",
      "source": [
        "def backsubs(U, b):\n",
        "\n",
        "  \"\"\"\n",
        "  x = backsubs(U, b)\n",
        "  Apply back substitution for the square upper triangular system Ux=b. \n",
        "\n",
        "  Parameters\n",
        "  -------\n",
        "    U: nxn square upper triangular array\n",
        "    b: n array\n",
        "    \n",
        "\n",
        "  Returns\n",
        "  -------\n",
        "    x: nx1 array\n",
        "  \"\"\"\n",
        "  ##### WRITE YOUR CODE HERE #####\n",
        "  pass\n",
        "\n",
        "\n",
        "def forwardsubs(L, b):\n",
        "\n",
        "  \"\"\"\n",
        "  \tx = forsubs(L, b)\n",
        "    Apply forward substitution for the square lower triangular system Lx=b. \n",
        "\n",
        "    Parameters\n",
        "    -------\n",
        "      L: nxn square lower triangular array\n",
        "      b: n array\n",
        "      \n",
        "    Returns\n",
        "    -------\n",
        "      x: n array\n",
        "\n",
        "  \"\"\"\n",
        "  ##### WRITE YOUR CODE HERE #####\n",
        "  pass\n",
        "\n",
        "  \n",
        "def fowardElimination(A,b):\n",
        "  # Naive Gaussian Elimination (with no pivoting) also called Forward Elimination\n",
        "  \"\"\"\n",
        "  \tU,b_new = fowardElimination(A, b)\n",
        "    Apply fowardElimination for the square system Ax=b. \n",
        "\n",
        "    Parameters\n",
        "    -------\n",
        "      A: nxn square matrix \n",
        "      b: n array\n",
        "\n",
        "    Returns\n",
        "    -------\n",
        "      U: nxn upper triangular matrix\n",
        "      b_new: n array\n",
        "  \"\"\"\n",
        "  ##### WRITE YOUR CODE HERE #####\n",
        "  pass\n",
        "  \n",
        "\n",
        "def ge(A,b):\n",
        "  \n",
        "  \"\"\"\n",
        "  \tx = ge(A, b)\n",
        "\n",
        "    Parameters\n",
        "    -------\n",
        "      A: nxn square matrix \n",
        "      b: n array\n",
        "\n",
        "    Returns\n",
        "    -------\n",
        "      x: n-array\n",
        "\n",
        "  \"\"\"\n",
        "  ##### WRITE YOUR CODE HERE #####\n",
        "  # Call fowardElimination\n",
        "  U,b_new = ...\n",
        "  # Call backsubs\n",
        "  x= ...\n",
        "  pass"
      ],
      "metadata": {
        "id": "BKfyOkjdeXnl"
      },
      "execution_count": null,
      "outputs": []
    },
    {
      "cell_type": "code",
      "source": [],
      "metadata": {
        "id": "Jpb2CeALeb8t"
      },
      "execution_count": null,
      "outputs": []
    },
    {
      "cell_type": "markdown",
      "source": [
        "## LU Decomposition/Factorization"
      ],
      "metadata": {
        "id": "xrbs9uRuel0v"
      }
    },
    {
      "cell_type": "code",
      "source": [
        "def ludecom(A):\n",
        "    \n",
        "  \"\"\"\n",
        "    L,U = ludecom(A)\n",
        "    Apply LU decomposition to mxm square matrix. \n",
        "\n",
        "    Parameters\n",
        "    -------\n",
        "    A: mxm square matrix \n",
        "\n",
        "    Returns\n",
        "    -------\n",
        "    L: mxm square matrix \n",
        "    U: mxm square matrix \n",
        "  \"\"\"\n",
        "\n",
        "  ##### WRITE YOUR CODE HERE #####\n",
        "  pass\n",
        "\n",
        "\n",
        "def solve(A, b):\n",
        "    \n",
        "    \"\"\"\n",
        "     x = solve(A, b)\n",
        "    Apply LU decmposition, forward and backward substitution for the square system Ax=b. \n",
        "\n",
        "    Parameters\n",
        "    -------\n",
        "    A: mxm square matrix \n",
        "    b: m vector\n",
        "        \n",
        "    Returns\n",
        "    -------\n",
        "    x: n vector\n",
        "    \n",
        "    \"\"\"\n",
        "    ##### WRITE YOUR CODE HERE #####\n",
        "    pass\n",
        "\n",
        "A= np.array([[1,1,1, 4],[2,3,5, 2],[4,6,8, 3], [3,9,2, 1]],dtype= np.float64)\n",
        "b= np.array([2,3,1, 4],dtype= np.float64)\n",
        "\n",
        "x= solve(A, b)\n",
        "\n",
        "print(A@x-b)"
      ],
      "metadata": {
        "id": "8BHIAJKEejoc"
      },
      "execution_count": null,
      "outputs": []
    },
    {
      "cell_type": "markdown",
      "source": [
        "___END___"
      ],
      "metadata": {
        "id": "MCnQwgWOWAJf"
      }
    },
    {
      "cell_type": "code",
      "source": [],
      "metadata": {
        "id": "pAlC_o4gWCPg"
      },
      "execution_count": null,
      "outputs": []
    }
  ]
}